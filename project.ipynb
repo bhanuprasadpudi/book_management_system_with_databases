{
 "cells": [
  {
   "cell_type": "code",
   "execution_count": null,
   "id": "7e6e16ab-2ad1-495c-8fbd-da7f0b7ca639",
   "metadata": {},
   "outputs": [],
   "source": [
    "import sqlite3\n",
    "db = \"moviess.db\"\n",
    "conn = sqlite3.connect(db)\n",
    "\n",
    "def create_movie_list():\n",
    "    conn.execute('''CREATE TABLE MOVIES\n",
    "                 (TITLE TEXT NOT NULL,\n",
    "                  DIRECTOR TEXT NOT NULL,\n",
    "                  YEAR INT NOT NULL,\n",
    "                  RATING REAL NOT NULL,\n",
    "                  WATCHED BOOL NOT NULL);''')\n",
    "create_movie_list()"
   ]
  },
  {
   "cell_type": "code",
   "execution_count": 29,
   "id": "766554d7-fc27-41f4-8161-9decf3057647",
   "metadata": {},
   "outputs": [],
   "source": [
    "def add_movie():\n",
    "    title = input(\"Enter the Movie title:\")\n",
    "    director = input(\"Enter the movie director:\")\n",
    "    year = int(input(\"Enter the movie release year: \"))\n",
    "    rating = float(input(\"Enter the movie rating: \"))\n",
    "    conn.execute(\"INSERT INTO MOVIES VALUES ('%s','%s',%d,%f,%d)\" %(title, director, year, rating, 0));\n",
    "    conn.commit()"
   ]
  },
  {
   "cell_type": "code",
   "execution_count": 30,
   "id": "5916f4cc-9dcb-403b-8800-d7e369b27ca0",
   "metadata": {},
   "outputs": [
    {
     "name": "stdin",
     "output_type": "stream",
     "text": [
      "Enter the Movie title: m1\n",
      "Enter the movie director: d1\n",
      "Enter the movie release year:  2000\n",
      "Enter the movie rating:  7\n"
     ]
    }
   ],
   "source": [
    "add_movie()"
   ]
  },
  {
   "cell_type": "code",
   "execution_count": 28,
   "id": "adf8bd11-ff4c-455e-b687-f9fbe46a0446",
   "metadata": {},
   "outputs": [],
   "source": [
    "def show_movies():\n",
    "    with conn:\n",
    "\n",
    "        cur = conn.cursor()\n",
    "        cur.execute(\"SELECT * FROM MOVIES \")\n",
    "    \n",
    "        rows = cur.fetchall()\n",
    "    \n",
    "        for row in rows:\n",
    "            seen = 'Yes' if row[4] else 'No'\n",
    "            print(f\"{row[0]} directed by {row[1]} in {row[2]} imdb rating: {row[3]} - watched: {seen}\")\n"
   ]
  },
  {
   "cell_type": "code",
   "execution_count": null,
   "id": "80450dee-a4e8-4d37-8777-27658ef638c1",
   "metadata": {},
   "outputs": [],
   "source": [
    "show_movies()"
   ]
  },
  {
   "cell_type": "code",
   "execution_count": 8,
   "id": "36964d3f-b7b9-4fcc-ba5e-39dcf157360d",
   "metadata": {},
   "outputs": [],
   "source": [
    "def movie_watched():\n",
    "    title = input(\"Enter the Movie title:\")\n",
    "    conn.execute(\"UPDATE MOVIES SET WATCHED = True WHERE TITLE = '%s'\" %(title));"
   ]
  },
  {
   "cell_type": "code",
   "execution_count": 16,
   "id": "c99b2e1e-11a8-45af-8f55-efdac3900148",
   "metadata": {},
   "outputs": [
    {
     "name": "stdin",
     "output_type": "stream",
     "text": [
      "Enter the Movie title: m1\n"
     ]
    }
   ],
   "source": [
    "movie_watched()"
   ]
  },
  {
   "cell_type": "code",
   "execution_count": 31,
   "id": "45ecf30d-93b6-4e5b-921f-d9a4a87ddbc5",
   "metadata": {},
   "outputs": [
    {
     "name": "stdout",
     "output_type": "stream",
     "text": [
      "m1 directed by d1 in 2000 imdb rating: 7.0 - watched: No\n"
     ]
    }
   ],
   "source": [
    "show_movies()"
   ]
  },
  {
   "cell_type": "code",
   "execution_count": 79,
   "id": "32b663ac-7791-4d07-9374-fa41141c3900",
   "metadata": {},
   "outputs": [
    {
     "name": "stdin",
     "output_type": "stream",
     "text": [
      "\n",
      "Enter:\n",
      "t -> title\n",
      "d -> director\n",
      "y -> year\n",
      "r -> rating\n",
      "q -> come out of searching\n",
      "your choice: \n",
      " t\n",
      "Enter the title:  hjdfas\n"
     ]
    },
    {
     "name": "stdout",
     "output_type": "stream",
     "text": [
      "movie not found!\n"
     ]
    },
    {
     "name": "stdin",
     "output_type": "stream",
     "text": [
      "\n",
      "Enter:\n",
      "t -> title\n",
      "d -> director\n",
      "y -> year\n",
      "r -> rating\n",
      "q -> come out of searching\n",
      "your choice: \n",
      " y\n",
      "Enter the Year:  2000\n"
     ]
    },
    {
     "name": "stdout",
     "output_type": "stream",
     "text": [
      "movie not found!\n"
     ]
    },
    {
     "name": "stdin",
     "output_type": "stream",
     "text": [
      "\n",
      "Enter:\n",
      "t -> title\n",
      "d -> director\n",
      "y -> year\n",
      "r -> rating\n",
      "q -> come out of searching\n",
      "your choice: \n",
      " q\n"
     ]
    }
   ],
   "source": [
    "find_choice = \"\"\"\n",
    "Enter:\n",
    "t -> title\n",
    "d -> director\n",
    "y -> year\n",
    "r -> rating\n",
    "q -> come out of searching\n",
    "your choice: \n",
    "\"\"\"\n",
    "def find_movie():\n",
    "    find_input = input(find_choice)\n",
    "    while find_input != 'q':\n",
    "        if find_input == 't':\n",
    "            title = input(\"Enter the title: \")\n",
    "            cur = conn.cursor()\n",
    "            cur.execute(\"SELECT * FROM MOVIES WHERE TITLE LIKE '%s'\" %(title));\n",
    "            row = cur.fetchone()\n",
    "            if row:\n",
    "                seen = 'Yes' if row[4] else 'No'\n",
    "                print(f\"{row[0]} directed by {row[1]} in {row[2]} imdb rating: {row[3]} - watched: {seen}\")\n",
    "            else:\n",
    "                print('movie not found!')\n",
    "        elif find_input == 'd':\n",
    "            director = input(\"Enter the director name: \")\n",
    "            cur = conn.cursor()\n",
    "            cur.execute(\"SELECT * FROM MOVIES WHERE DIRECTOR LIKE '%s'\" %(director));\n",
    "            row = cur.fetchone()\n",
    "            if row:\n",
    "                seen = 'Yes' if row[4] else 'No'\n",
    "                print(f\"{row[0]} directed by {row[1]} in {row[2]} imdb rating: {row[3]} - watched: {seen}\")\n",
    "            else:\n",
    "                print('movie not found!')\n",
    "        elif find_input == 'y':\n",
    "            year = int(input(\"Enter the Year: \"))\n",
    "            cur = conn.cursor()\n",
    "            cur.execute(\"SELECT * FROM MOVIES WHERE YEAR LIKE %d\" %(year));\n",
    "            row = cur.fetchone()\n",
    "            if row:\n",
    "                seen = 'Yes' if row[4] else 'No'\n",
    "                print(f\"{row[0]} directed by {row[1]} in {row[2]} imdb rating: {row[3]} - watched: {seen}\")\n",
    "            else:\n",
    "                print('movie not found!')        \n",
    "        elif find_input == 'r':\n",
    "            rating = float(input(\"Enter the rating: \"))\n",
    "            cur = conn.cursor()\n",
    "            cur.execute(\"SELECT * FROM MOVIES WHERE RATING LIKE %f\" %(rating));\n",
    "            row = cur.fetchone()\n",
    "            if row:\n",
    "                seen = 'Yes' if row[4] else 'No'\n",
    "                print(f\"{row[0]} directed by {row[1]} in {row[2]} imdb rating: {row[3]} - watched: {seen}\")\n",
    "            else:\n",
    "                print('movie not found!')\n",
    "        find_input = input(find_choice)\n",
    "find_movie()        "
   ]
  },
  {
   "cell_type": "code",
   "execution_count": 46,
   "id": "00457ecb-c96e-476d-926e-ed75b2b002af",
   "metadata": {},
   "outputs": [],
   "source": [
    "update_choice = \"\"\"\n",
    "Enter:\n",
    "t->title\n",
    "d->director\n",
    "y->year\n",
    "r->rating\n",
    "q-> update done\n",
    "Your choice: \"\"\"\n",
    "def update_movie():\n",
    "    title = input(\"Enter the Movie title:\")\n",
    "    update_input = input(update_choice)\n",
    "    while update_input != 'q':\n",
    "        if update_input == 't':\n",
    "            new_title = input(\"Enter the new title for the movie: \") \n",
    "            conn.execute(\"UPDATE MOVIES SET TITLE = '%s' WHERE TITLE = '%s'\" %(new_title, title));\n",
    "        elif update_input == 'd':\n",
    "            new_dir = input(\"Enter the new director for the movie: \") \n",
    "            conn.execute(\"UPDATE MOVIES SET DIRECTOR = '%s' WHERE TITLE = '%s'\" %(new_dir, title));\n",
    "        elif update_input == 'y':\n",
    "            new_year = int(input(\"Enter the new year for the movie: \")) \n",
    "            conn.execute(\"UPDATE MOVIES SET YEAR = %d WHERE TITLE = '%s'\" %(new_year, title));\n",
    "        elif update_input == 'r':\n",
    "            new_rat = float(input(\"Enter the new rating for the movie: \")) \n",
    "            conn.execute(\"UPDATE MOVIES SET RATING = %f WHERE TITLE = '%s'\" %(new_rat, title));\n",
    "        update_input = input(update_choice)    "
   ]
  },
  {
   "cell_type": "code",
   "execution_count": 49,
   "id": "d48a5c2c-66cb-4c06-b2eb-325dc2ab0743",
   "metadata": {},
   "outputs": [
    {
     "name": "stdin",
     "output_type": "stream",
     "text": [
      "Enter the Movie title: bahubali\n",
      "\n",
      "Enter:\n",
      "t->title\n",
      "d->director\n",
      "y->year\n",
      "r->rating\n",
      "q-> update done\n",
      "Your choice:  y\n",
      "Enter the new year for the movie:  2018\n",
      "\n",
      "Enter:\n",
      "t->title\n",
      "d->director\n",
      "y->year\n",
      "r->rating\n",
      "q-> update done\n",
      "Your choice:  r\n",
      "Enter the new rating for the movie:  8\n",
      "\n",
      "Enter:\n",
      "t->title\n",
      "d->director\n",
      "y->year\n",
      "r->rating\n",
      "q-> update done\n",
      "Your choice:  q\n"
     ]
    }
   ],
   "source": [
    "update_movie()"
   ]
  },
  {
   "cell_type": "code",
   "execution_count": 83,
   "id": "b0c2dacf-0811-4fa2-bea9-1d60fb24e265",
   "metadata": {},
   "outputs": [],
   "source": [
    "def delete_movie():\n",
    "    title=input(\"Enter the Movie title:\")\n",
    "    conn.execute(\"DELETE FROM MOVIES WHERE TITLE = '%s'\" %(title));"
   ]
  },
  {
   "cell_type": "code",
   "execution_count": 84,
   "id": "9fe65586-2e42-4a8c-9401-c349f8328b84",
   "metadata": {},
   "outputs": [
    {
     "name": "stdin",
     "output_type": "stream",
     "text": [
      "Enter the Movie title: m1\n"
     ]
    }
   ],
   "source": [
    "delete_movie()"
   ]
  },
  {
   "cell_type": "code",
   "execution_count": 87,
   "id": "22bed34d-fbc6-44ce-a141-2f30af08a8c0",
   "metadata": {},
   "outputs": [],
   "source": [
    "def clear_movies():\n",
    "    conn.execute('DELETE FROM MOVIES')"
   ]
  },
  {
   "cell_type": "code",
   "execution_count": 18,
   "id": "c0e64c8f-ae61-4537-9a26-be6d4f8024c6",
   "metadata": {},
   "outputs": [],
   "source": [
    "clear_movies()"
   ]
  },
  {
   "cell_type": "code",
   "execution_count": 50,
   "id": "517abd77-33f9-4cd7-b069-e74f89301bfa",
   "metadata": {},
   "outputs": [
    {
     "name": "stdout",
     "output_type": "stream",
     "text": [
      "bahubali directed by rajmouli in 2018 imdb rating: 8.0 - watched: No\n"
     ]
    }
   ],
   "source": [
    "show_movies()"
   ]
  },
  {
   "cell_type": "code",
   "execution_count": null,
   "id": "33310c7e-49eb-4fe0-9d89-1b2982b1d7ee",
   "metadata": {},
   "outputs": [],
   "source": [
    "user_choice = \"\"\"\"\n",
    "Enter:\n",
    "'a': add_movie\n",
    "'l': show_movies\n",
    "'w': movie_watched\n",
    "'c': clear_movies\n",
    "'f': find_movie\n",
    "'u': update_movie\n",
    "'d': delete_mov\n",
    "'q': quit\n",
    "Your choice: \n",
    "\"\"\"\n",
    "user_options={\n",
    "    'a': add_movie,\n",
    "    'l': show_movies,\n",
    "    'w': movie_watched,\n",
    "    'f': find_movie,\n",
    "    'u': update_movie,\n",
    "    'd': delete_movie,\n",
    "    'c': clear_movies\n",
    "    }\n",
    "def menu():\n",
    "    selection = input(user_choice)\n",
    "    while selection != 'q':\n",
    "        if selection in user_options:\n",
    "            selected_function = user_options[selection]\n",
    "            selected_function()\n",
    "        else:\n",
    "            print('Unknown command, Please try again!')\n",
    "        selection = input(user_choice)\n",
    "        \n",
    "menu()"
   ]
  },
  {
   "cell_type": "code",
   "execution_count": null,
   "id": "476ffc82-155c-465b-950e-469dfc1e1a35",
   "metadata": {},
   "outputs": [],
   "source": []
  }
 ],
 "metadata": {
  "kernelspec": {
   "display_name": "Python 3 (ipykernel)",
   "language": "python",
   "name": "python3"
  },
  "language_info": {
   "codemirror_mode": {
    "name": "ipython",
    "version": 3
   },
   "file_extension": ".py",
   "mimetype": "text/x-python",
   "name": "python",
   "nbconvert_exporter": "python",
   "pygments_lexer": "ipython3",
   "version": "3.11.7"
  }
 },
 "nbformat": 4,
 "nbformat_minor": 5
}
